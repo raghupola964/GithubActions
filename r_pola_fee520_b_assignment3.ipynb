{
  "cells": [
    {
      "cell_type": "markdown",
      "metadata": {
        "id": "view-in-github",
        "colab_type": "text"
      },
      "source": [
        "<a href=\"https://colab.research.google.com/github/raghupola964/GithubActions/blob/main/r_pola_fee520_b_assignment3.ipynb\" target=\"_parent\"><img src=\"https://colab.research.google.com/assets/colab-badge.svg\" alt=\"Open In Colab\"/></a>"
      ]
    },
    {
      "cell_type": "markdown",
      "metadata": {
        "id": "jneloWfwqeKa"
      },
      "source": [
        "# Question 1: Loan Amortization Schedule Generator"
      ]
    },
    {
      "cell_type": "markdown",
      "metadata": {
        "id": "7fq4ROhAqeKd"
      },
      "source": [
        "* Objective:\n",
        "    Develop a Python program that generates a loan amortization schedule. The program should include functions to perform the following tasks:\n",
        "\n",
        "   (1) Input Loan Details: Allow the user to input the loan amount, annual interest rate, and loan term (in years).\\\n",
        "   (2) Calculate Monthly Payments: Implement a function to calculate monthly payments using the standard formula.\\\n",
        "   (3) Generate Amortization Schedule: Create a schedule showing the breakdown of each monthly payment into principal and interest, along with the remaining loan balance.\\\n",
        "   (4) Display the Schedule: Neatly display the amortization schedule in a tabular format."
      ]
    },
    {
      "cell_type": "markdown",
      "metadata": {
        "id": "xYS3Cv2yqeKd"
      },
      "source": [
        "* The formula for the monthly payment calculation is:\\\n",
        "  $$M = P \\frac{r(1 + r)^n}{(1 + r)^n - 1}$$\n",
        "  where \\\n",
        "  M is the monthly payment \\\n",
        "  P is the principal loan amount \\\n",
        "  r is the monthly interest rate (annual rate divided by 12) \\\n",
        "  n is the number of payments (loan term in years multiplied by 12) \\"
      ]
    },
    {
      "cell_type": "code",
      "source": [
        "import pandas as pd\n",
        "import numpy as np\n",
        "\n",
        "def input_loan_details():\n",
        "    amount = float(input(\"Enter loan amount: \"))\n",
        "    annual_rate = float(input(\"Enter annual interest rate (as a percent): \")) / 100\n",
        "    years = int(input(\"Enter loan term in years: \"))\n",
        "    return amount, annual_rate, years\n",
        "\n",
        "def calculate_monthly_payment(amount, annual_rate, years):\n",
        "    n = years * 12\n",
        "    r = annual_rate / 12\n",
        "    P = amount\n",
        "    monthly_payment = (P * r * (1 + r) ** n) / ((1 + r) ** n - 1)\n",
        "    return monthly_payment\n",
        "\n",
        "def generate_amortization_schedule(amount, annual_rate, years):\n",
        "    monthly_payment = calculate_monthly_payment(amount, annual_rate, years)\n",
        "    schedule = []\n",
        "    balance = amount\n",
        "    for i in range(1, years * 12 + 1):\n",
        "        interest = balance * (annual_rate / 12)\n",
        "        principal = monthly_payment - interest\n",
        "        balance -= principal\n",
        "        if balance >= 0:\n",
        "            schedule.append((i, round(monthly_payment, 2), round(principal, 2), round(interest, 2), round(balance, 2)))\n",
        "        else:\n",
        "            schedule.append((i, round(monthly_payment, 2), round(principal, 2), round(interest, 2), 0))\n",
        "            break\n",
        "\n",
        "        if balance == 0:\n",
        "            break\n",
        "\n",
        "    return schedule\n",
        "\n",
        "def display_schedule(schedule):\n",
        "    print(\"Amortization Schedule:\")\n",
        "    print(\"{:<12} {:<12} {:<12} {:<12} {:<12}\".format(\"Installment\", \"Payment\", \"Principal\", \"Interest\", \"Balance\"))\n",
        "    for entry in schedule:\n",
        "        print(\"{:<12} {:<12.2f} {:<12.2f} {:<12.2f} {:<12.2f}\".format(*entry))\n",
        "\n",
        "def main():\n",
        "    amount, annual_rate, years = input_loan_details()\n",
        "    schedule = generate_amortization_schedule(amount, annual_rate, years)\n",
        "    display_schedule(schedule)\n",
        "\n",
        "if __name__ == \"__main__\":\n",
        "    main()\n"
      ],
      "metadata": {
        "colab": {
          "base_uri": "https://localhost:8080/"
        },
        "id": "HrZNlhYWt7Jv",
        "outputId": "348f3a91-100b-4010-f3be-8c7aef15f8d6"
      },
      "execution_count": 21,
      "outputs": [
        {
          "output_type": "stream",
          "name": "stdout",
          "text": [
            "Enter loan amount: 100\n",
            "Enter annual interest rate (as a percent): 1\n",
            "Enter loan term in years: 1\n",
            "Amortization Schedule:\n",
            "Installment  Payment      Principal    Interest     Balance     \n",
            "1            8.38         8.30         0.08         91.70       \n",
            "2            8.38         8.30         0.08         83.40       \n",
            "3            8.38         8.31         0.07         75.09       \n",
            "4            8.38         8.32         0.06         66.78       \n",
            "5            8.38         8.32         0.06         58.45       \n",
            "6            8.38         8.33         0.05         50.12       \n",
            "7            8.38         8.34         0.04         41.79       \n",
            "8            8.38         8.34         0.03         33.44       \n",
            "9            8.38         8.35         0.03         25.09       \n",
            "10           8.38         8.36         0.02         16.74       \n",
            "11           8.38         8.36         0.01         8.37        \n",
            "12           8.38         8.37         0.01         0.00        \n"
          ]
        }
      ]
    },
    {
      "cell_type": "code",
      "source": [],
      "metadata": {
        "id": "pgmeZjlw0MWt"
      },
      "execution_count": 24,
      "outputs": []
    }
  ],
  "metadata": {
    "kernelspec": {
      "display_name": "Python 3",
      "language": "python",
      "name": "python3"
    },
    "language_info": {
      "codemirror_mode": {
        "name": "ipython",
        "version": 3
      },
      "file_extension": ".py",
      "mimetype": "text/x-python",
      "name": "python",
      "nbconvert_exporter": "python",
      "pygments_lexer": "ipython3",
      "version": "3.8.5"
    },
    "toc": {
      "base_numbering": 1,
      "nav_menu": {},
      "number_sections": true,
      "sideBar": true,
      "skip_h1_title": false,
      "title_cell": "Table of Contents",
      "title_sidebar": "Contents",
      "toc_cell": true,
      "toc_position": {},
      "toc_section_display": true,
      "toc_window_display": true
    },
    "colab": {
      "provenance": [],
      "include_colab_link": true
    }
  },
  "nbformat": 4,
  "nbformat_minor": 0
}